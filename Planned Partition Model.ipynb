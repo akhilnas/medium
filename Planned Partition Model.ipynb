{
 "cells": [
  {
   "cell_type": "markdown",
   "metadata": {},
   "source": [
    "# 1. Loading Modules"
   ]
  },
  {
   "cell_type": "code",
   "execution_count": 1,
   "metadata": {},
   "outputs": [],
   "source": [
    "# Required Libraries\n",
    "import numpy as np\n",
    "import matplotlib.pyplot as plt\n",
    "import ipywidgets as widgets\n",
    "from IPython.display import display\n",
    "import networkx as nx\n",
    "from ipywidgets.widgets.interaction import show_inline_matplotlib_plots"
   ]
  },
  {
   "cell_type": "markdown",
   "metadata": {},
   "source": [
    "# 2. Model Parameters\n",
    "*z - probability of being in Community 1* \n",
    "\n",
    "*p - same community nodes - edge probability*\n",
    "\n",
    "*q - different community nodes -  edge probability*"
   ]
  },
  {
   "cell_type": "code",
   "execution_count": 2,
   "metadata": {},
   "outputs": [],
   "source": [
    "def Planned_Partition_Model(z=0.5,p=0.6,q=0.2,N=20):\n",
    "    \"\"\"\n",
    "    Simulating Planned Partition Graph Model\n",
    "    \n",
    "    Parameters\n",
    "    ----------\n",
    "    z: float between [0,1] \n",
    "        Probability of a Node belonging to community 1\n",
    "    p: float between [0,1] \n",
    "        Probability of an Edge occuring between nodes of the same community\n",
    "    q: float between [0,1] \n",
    "        Probability of an Edge occuring between nodes of the different community    \n",
    "    N: int\n",
    "        Number of Nodes Of Graph\n",
    "    \n",
    "    Returns\n",
    "    -------\n",
    "    G - Graph Data Structure\n",
    "    \"\"\"    \n",
    "    ## Create Node Matrix\n",
    "    nodes = np.arange(N)\n",
    "    ## Defining Colour Map of Nodes\n",
    "    color_map = []\n",
    "    Adj = np.eye(N)\n",
    "    \n",
    "    ## Distributing Nodes into the two communities\n",
    "    community = np.random.choice(2, size = N, p=[1 - z, z])\n",
    "    \n",
    "    ## Creating Colour Map\n",
    "    for n in nodes:\n",
    "        if community[n] == 0:\n",
    "            color_map.append('blue')\n",
    "        elif community[n] == 1:\n",
    "            color_map.append('green') \n",
    "            \n",
    "    ## Splitting into individual communities\n",
    "    community = community.astype(bool)\n",
    "    community0 = nodes[~community]\n",
    "    community1 = nodes[community]\n",
    "            \n",
    "    ## Creating the Adjacency Matrix\n",
    "    for i in community0:\n",
    "        for j in community0:\n",
    "            Adj[i,j] = np.random.choice(2,1,p=[1-p,p])\n",
    "            \n",
    "    for i in community1:\n",
    "        for j in community1:\n",
    "            Adj[i,j] = np.random.choice(2,1,p=[1-p,p])\n",
    "            \n",
    "    for i in community0:\n",
    "        for j in community1:\n",
    "            Adj[i,j] = np.random.choice(2,1,p=[1-q,q])\n",
    "            Adj[j,i] = Adj[i,j]\n",
    "    \n",
    "    ## Construct Matrix from networkx module\n",
    "    G = nx.from_numpy_matrix(Adj)\n",
    "    G.add_nodes_from(np.arange(N))\n",
    "    \n",
    "    ## Return Graph and colour map\n",
    "    return G,color_map"
   ]
  },
  {
   "cell_type": "code",
   "execution_count": 3,
   "metadata": {},
   "outputs": [
    {
     "name": "stdout",
     "output_type": "stream",
     "text": [
      "Enter the values for the variables in the following fields\n"
     ]
    },
    {
     "data": {
      "application/vnd.jupyter.widget-view+json": {
       "model_id": "d449e40852404f3493290b1dbaad056f",
       "version_major": 2,
       "version_minor": 0
      },
      "text/plain": [
       "Text(value=\"e.g. '0.5'\", description='Prob - z')"
      ]
     },
     "metadata": {},
     "output_type": "display_data"
    },
    {
     "data": {
      "application/vnd.jupyter.widget-view+json": {
       "model_id": "a2f2405d3a784ef8ad78ade7b659b392",
       "version_major": 2,
       "version_minor": 0
      },
      "text/plain": [
       "Text(value=\"e.g. '0.2'\", description='Prob - p')"
      ]
     },
     "metadata": {},
     "output_type": "display_data"
    },
    {
     "data": {
      "application/vnd.jupyter.widget-view+json": {
       "model_id": "203d0da49d304ba7842d5851cabb0443",
       "version_major": 2,
       "version_minor": 0
      },
      "text/plain": [
       "Text(value=\"e.g. '0.32'\", description='Prob - q')"
      ]
     },
     "metadata": {},
     "output_type": "display_data"
    },
    {
     "data": {
      "application/vnd.jupyter.widget-view+json": {
       "model_id": "8697c256bf9d466ea0d7ecb07537ba1c",
       "version_major": 2,
       "version_minor": 0
      },
      "text/plain": [
       "Text(value=\"e.g. '10'\", description='No: of Nodes')"
      ]
     },
     "metadata": {},
     "output_type": "display_data"
    }
   ],
   "source": [
    "class values_input():\n",
    "    def __init__(self, \n",
    "                 prob_z = \"e.g. '0.5'\", \n",
    "                 prob_p = \"e.g. '0.2'\", \n",
    "                 prob_q = \"e.g. '0.32'\",\n",
    "                 N = \"e.g. '10'\"                  \n",
    "                ):\n",
    "        self.prob_z = widgets.Text(description = 'Prob - z',value = prob_z)\n",
    "        self.prob_p = widgets.Text(description = 'Prob - p',value = prob_p)\n",
    "        self.prob_q = widgets.Text(description = 'Prob - q',value = prob_q)\n",
    "        self.N = widgets.Text(description = 'No: of Nodes',value = N)\n",
    "        self.prob_p.on_submit(self.handle_submit)\n",
    "        self.prob_p.on_submit(self.handle_submit)\n",
    "        self.prob_p.on_submit(self.handle_submit)\n",
    "        self.prob_p.on_submit(self.handle_submit)\n",
    "        display(self.prob_z, self.prob_p, self.prob_q, self.N)\n",
    "\n",
    "    def handle_submit(self, text):\n",
    "        self.v = text.value\n",
    "        return self.v\n",
    "    \n",
    "print(\"Enter the values for the variables in the following fields\")\n",
    "f = values_input()"
   ]
  },
  {
   "cell_type": "code",
   "execution_count": 6,
   "metadata": {},
   "outputs": [
    {
     "name": "stdout",
     "output_type": "stream",
     "text": [
      "Values Inputed:  0.5, 0.2, 0.32, 15\n"
     ]
    }
   ],
   "source": [
    "print(\"Values Inputed: \" ,f.prob_z.value + \",\", f.prob_p.value + \",\", f.prob_q.value + \",\", f.N.value)"
   ]
  },
  {
   "cell_type": "code",
   "execution_count": 7,
   "metadata": {},
   "outputs": [
    {
     "name": "stderr",
     "output_type": "stream",
     "text": [
      "/home/akhil/anaconda3/lib/python3.7/site-packages/networkx/drawing/nx_pylab.py:579: MatplotlibDeprecationWarning: \n",
      "The iterable function was deprecated in Matplotlib 3.1 and will be removed in 3.3. Use np.iterable instead.\n",
      "  if not cb.iterable(width):\n"
     ]
    },
    {
     "data": {
      "image/png": "[encoded data removed]",
      "text/plain": [
       "<Figure size 432x288 with 1 Axes>"
      ]
     },
     "metadata": {},
     "output_type": "display_data"
    }
   ],
   "source": [
    "# Constructing Graph Network\n",
    "G,colour_map = Planned_Partition_Model(float(f.prob_z.value),float(f.prob_p.value),\n",
    "                                       float(f.prob_q.value),int(f.N.value))\n",
    "\n",
    "# Drawing Graph\n",
    "nx.draw(G,node_color=colour_map)\n",
    "show_inline_matplotlib_plots()"
   ]
  },
  {
   "cell_type": "code",
   "execution_count": null,
   "metadata": {},
   "outputs": [],
   "source": []
  }
 ],
 "metadata": {
  "kernelspec": {
   "display_name": "Python 3",
   "language": "python",
   "name": "python3"
  },
  "language_info": {
   "codemirror_mode": {
    "name": "ipython",
    "version": 3
   },
   "file_extension": ".py",
   "mimetype": "text/x-python",
   "name": "python",
   "nbconvert_exporter": "python",
   "pygments_lexer": "ipython3",
   "version": "3.7.4"
  }
 },
 "nbformat": 4,
 "nbformat_minor": 2
}
