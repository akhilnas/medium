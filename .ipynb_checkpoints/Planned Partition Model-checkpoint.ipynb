{
 "cells": [
  {
   "cell_type": "code",
   "execution_count": 1,
   "metadata": {},
   "outputs": [],
   "source": [
    "# Required Libraries\n",
    "import numpy as np\n",
    "import matplotlib.pyplot as plt\n",
    "import ipywidgets as widgets\n",
    "from IPython.display import display\n",
    "import networkx as nx\n",
    "from ipywidgets.widgets.interaction import show_inline_matplotlib_plots"
   ]
  },
  {
   "cell_type": "markdown",
   "metadata": {},
   "source": [
    "# 1. Model Parameters\n",
    "*z - probability of being in Community 1* \n",
    "\n",
    "*p - same community nodes - edge probability*\n",
    "\n",
    "*q - different community nodes -  edge probability*"
   ]
  },
  {
   "cell_type": "code",
   "execution_count": 2,
   "metadata": {},
   "outputs": [],
   "source": [
    "def Planned_Partition_Model(z,p,q,N):\n",
    "    \"\"\"\n",
    "    Simulating Planned Partition Graph Model\n",
    "    \n",
    "    Parameters\n",
    "    ----------\n",
    "    z: float between [0,1] \n",
    "        Probability of a Node belonging to community 1\n",
    "    p: float between [0,1] \n",
    "        Probability of an Edge occuring between nodes of the same community\n",
    "    q: float between [0,1] \n",
    "        Probability of an Edge occuring between nodes of the different community    \n",
    "    N: int\n",
    "        Number of Nodes Of Graph\n",
    "    \n",
    "    Returns\n",
    "    -------\n",
    "    G - Graph Data Structure\n",
    "    \"\"\"    \n",
    "    ## Create Node Matrix\n",
    "    nodes = np.arange(N)\n",
    "    ## Defining Colour Map of Nodes\n",
    "    color_map = []\n",
    "    \n",
    "    ## Distributing Nodes into the two communities\n",
    "    community = np.random.choice(2, size = N, p=[1 - z, z])\n",
    "    \n",
    "    ## Creating Colour Map\n",
    "    for n in nodes:\n",
    "        if community[n] == 0:\n",
    "            color_map.append('blue')\n",
    "        elif community[n] == 1:\n",
    "            color_map.append('green') \n",
    "            \n",
    "    ## Splitting into individual communities\n",
    "    community = community.astype(bool)\n",
    "    community0 = nodes[~community]\n",
    "    community1 = nodes[community]\n",
    "            \n",
    "    ## Creating the Adjacency Matrix\n",
    "    for i in community0:\n",
    "        for j in community0:\n",
    "            A[i,j] = np.random.choice(2,1,p=[1-p,p])\n",
    "            \n",
    "    for i in community1:\n",
    "        for j in community1:\n",
    "            A[i,j] = np.random.choice(2,1,p=[1-p,p])\n",
    "            \n",
    "    for i in community0:\n",
    "        for j in community1:\n",
    "            A[i,j] = np.random.choice(2,1,p=[1-q,q])\n",
    "            A[j,i] = A[i,j]\n",
    "    \n",
    "    ## Construct Matrix from networkx module\n",
    "    G = nx.from_numpy_matrix(Adj)\n",
    "    G.add_nodes_from(np.arange(N))\n",
    "    \n",
    "    ## Return Graph and colour map\n",
    "    return G,color_map"
   ]
  },
  {
   "cell_type": "code",
   "execution_count": 14,
   "metadata": {},
   "outputs": [
    {
     "name": "stdout",
     "output_type": "stream",
     "text": [
      "[0]\n"
     ]
    }
   ],
   "source": [
    "z=0.5\n",
    "N=1\n",
    "community = np.random.choice(2,size=N,p=[1 - z, z])\n",
    "print(community)"
   ]
  },
  {
   "cell_type": "code",
   "execution_count": 17,
   "metadata": {},
   "outputs": [
    {
     "data": {
      "text/plain": [
       "array([ 0,  1,  2,  3,  4,  5,  6,  7,  8,  9, 10, 11, 12, 13, 14, 15, 16,\n",
       "       17, 18, 19, 20, 21, 22, 23, 24, 25, 26, 27, 28, 29, 30, 31, 32, 33,\n",
       "       34, 35, 36, 37, 38, 39, 40, 41, 42, 43, 44, 45, 46, 47, 48, 49])"
      ]
     },
     "execution_count": 17,
     "metadata": {},
     "output_type": "execute_result"
    }
   ],
   "source": [
    "N = 50\n",
    "nodes = np.arange(N)\n",
    "nodes"
   ]
  },
  {
   "cell_type": "code",
   "execution_count": 22,
   "metadata": {},
   "outputs": [
    {
     "data": {
      "text/plain": [
       "array([False,  True, False, False,  True,  True,  True,  True, False,\n",
       "       False,  True, False,  True, False, False,  True,  True, False,\n",
       "        True,  True,  True, False, False,  True,  True, False,  True,\n",
       "       False, False, False,  True, False, False, False,  True,  True,\n",
       "       False,  True, False, False, False, False,  True, False,  True,\n",
       "       False,  True,  True, False,  True])"
      ]
     },
     "execution_count": 22,
     "metadata": {},
     "output_type": "execute_result"
    }
   ],
   "source": [
    "community = np.random.choice(2, size = N, p=[1 - z, z])\n",
    "community = community.astype(bool)\n",
    "community"
   ]
  },
  {
   "cell_type": "code",
   "execution_count": 23,
   "metadata": {},
   "outputs": [
    {
     "data": {
      "text/plain": [
       "array([ 1,  4,  5,  6,  7, 10, 12, 15, 16, 18, 19, 20, 23, 24, 26, 30, 34,\n",
       "       35, 37, 42, 44, 46, 47, 49])"
      ]
     },
     "execution_count": 23,
     "metadata": {},
     "output_type": "execute_result"
    }
   ],
   "source": [
    "community1 = nodes[community]\n",
    "community1"
   ]
  },
  {
   "cell_type": "code",
   "execution_count": 26,
   "metadata": {},
   "outputs": [
    {
     "data": {
      "text/plain": [
       "array([ 0,  2,  3,  8,  9, 11, 13, 14, 17, 21, 22, 25, 27, 28, 29, 31, 32,\n",
       "       33, 36, 38, 39, 40, 41, 43, 45, 48])"
      ]
     },
     "execution_count": 26,
     "metadata": {},
     "output_type": "execute_result"
    }
   ],
   "source": [
    "community0 = nodes[~community]\n",
    "community0"
   ]
  },
  {
   "cell_type": "code",
   "execution_count": null,
   "metadata": {},
   "outputs": [],
   "source": []
  }
 ],
 "metadata": {
  "kernelspec": {
   "display_name": "Python 3",
   "language": "python",
   "name": "python3"
  },
  "language_info": {
   "codemirror_mode": {
    "name": "ipython",
    "version": 3
   },
   "file_extension": ".py",
   "mimetype": "text/x-python",
   "name": "python",
   "nbconvert_exporter": "python",
   "pygments_lexer": "ipython3",
   "version": "3.7.4"
  }
 },
 "nbformat": 4,
 "nbformat_minor": 2
}
