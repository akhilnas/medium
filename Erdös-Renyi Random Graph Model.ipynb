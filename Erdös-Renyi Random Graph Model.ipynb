{
 "cells": [
  {
   "cell_type": "code",
   "execution_count": 1,
   "metadata": {},
   "outputs": [],
   "source": [
    "# Required Libraries\n",
    "import numpy as np\n",
    "import matplotlib.pyplot as plt\n",
    "import ipywidgets as widgets\n",
    "from IPython.display import display\n",
    "import networkx as nx\n",
    "from ipywidgets.widgets.interaction import show_inline_matplotlib_plots\n"
   ]
  },
  {
   "cell_type": "markdown",
   "metadata": {},
   "source": [
    "# 2. Model Parameters \n",
    "prob - Probability of an Edge occuring   \n",
    "N - Number of Nodes\n"
   ]
  },
  {
   "cell_type": "code",
   "execution_count": 2,
   "metadata": {},
   "outputs": [],
   "source": [
    "def Erdos_Renyi(prob,N=50):\n",
    "    \"\"\"\n",
    "    Simulating Erdos_Renyi Random Graph Model\n",
    "    \n",
    "    Parameters\n",
    "    ----------\n",
    "    prob: int between [0,1] \n",
    "        Probability of an Edge occuring\n",
    "    N: int\n",
    "        Number of Nodes Of Graph\n",
    "    \n",
    "    Returns\n",
    "    -------\n",
    "    G - Graph Data Structure\n",
    "    \"\"\"\n",
    "    ## Creating the Adjacency Matrix\n",
    "    Adj = np.random.choice(2,(N,N),p=[1-prob,prob])\n",
    "\n",
    "    ## Create Node Matrix\n",
    "    nodes = np.arange(N)\n",
    "    \n",
    "    ## Construct Matrix from networkx module\n",
    "    G = nx.from_numpy_matrix(Adj)\n",
    "    G.add_nodes_from(np.arange(N))\n",
    "    \n",
    "    ## Return Graph\n",
    "    return G    "
   ]
  },
  {
   "cell_type": "code",
   "execution_count": 3,
   "metadata": {},
   "outputs": [
    {
     "data": {
      "application/vnd.jupyter.widget-view+json": {
       "model_id": "06dcdc9c19d6411895b5463eb4185406",
       "version_major": 2,
       "version_minor": 0
      },
      "text/plain": [
       "Text(value='Enter Probability of Edge Occuring')"
      ]
     },
     "metadata": {},
     "output_type": "display_data"
    },
    {
     "data": {
      "application/vnd.jupyter.widget-view+json": {
       "model_id": "bcd5a9d1a05b41208adac9ae4ee84e9d",
       "version_major": 2,
       "version_minor": 0
      },
      "text/plain": [
       "Output()"
      ]
     },
     "metadata": {},
     "output_type": "display_data"
    }
   ],
   "source": [
    "text = widgets.Text(value=\"Enter Probability of Edge Occuring\")\n",
    "display(text)\n",
    "\n",
    "output = widgets.Output()\n",
    "display(output)\n",
    "\n",
    "def handle_submit(sender):\n",
    "    with output:\n",
    "        output.clear_output()\n",
    "        G = Erdos_Renyi(float(text.value))\n",
    "        nx.draw(G)\n",
    "        show_inline_matplotlib_plots()\n",
    "        \n",
    "text.on_submit(handle_submit)"
   ]
  },
  {
   "cell_type": "markdown",
   "metadata": {},
   "source": [
    "# 3. Estimating Model Parameters\n"
   ]
  },
  {
   "cell_type": "code",
   "execution_count": 4,
   "metadata": {},
   "outputs": [
    {
     "ename": "ValueError",
     "evalue": "could not convert string to float: 'Enter Probability of Edge Occuring'",
     "output_type": "error",
     "traceback": [
      "\u001b[0;31m---------------------------------------------------------------------------\u001b[0m",
      "\u001b[0;31mValueError\u001b[0m                                Traceback (most recent call last)",
      "\u001b[0;32m<ipython-input-4-caed0a37bbfc>\u001b[0m in \u001b[0;36m<module>\u001b[0;34m\u001b[0m\n\u001b[0;32m----> 1\u001b[0;31m \u001b[0mG\u001b[0m \u001b[0;34m=\u001b[0m \u001b[0mErdos_Renyi\u001b[0m\u001b[0;34m(\u001b[0m\u001b[0mfloat\u001b[0m\u001b[0;34m(\u001b[0m\u001b[0mtext\u001b[0m\u001b[0;34m.\u001b[0m\u001b[0mvalue\u001b[0m\u001b[0;34m)\u001b[0m\u001b[0;34m)\u001b[0m\u001b[0;34m\u001b[0m\u001b[0;34m\u001b[0m\u001b[0m\n\u001b[0m\u001b[1;32m      2\u001b[0m \u001b[0mG\u001b[0m\u001b[0;34m.\u001b[0m\u001b[0mnodes\u001b[0m\u001b[0;34m(\u001b[0m\u001b[0;34m)\u001b[0m\u001b[0;34m\u001b[0m\u001b[0;34m\u001b[0m\u001b[0m\n",
      "\u001b[0;31mValueError\u001b[0m: could not convert string to float: 'Enter Probability of Edge Occuring'"
     ]
    }
   ],
   "source": [
    "G = Erdos_Renyi(float(text.value))\n",
    "G.nodes()"
   ]
  },
  {
   "cell_type": "code",
   "execution_count": null,
   "metadata": {},
   "outputs": [],
   "source": [
    "Adj = nx.adjacency_matrix(G)\n",
    "p = float(text.value)\n",
    "N = len(list(G.nodes))"
   ]
  },
  {
   "cell_type": "code",
   "execution_count": null,
   "metadata": {},
   "outputs": [],
   "source": []
  },
  {
   "cell_type": "markdown",
   "metadata": {},
   "source": [
    "## 3.1 Average Node Degree in Graph\n",
    "\n",
    "The Average Degree of a Node in the Erdos-Renyi Model is given by *prob(N-1)*. "
   ]
  },
  {
   "cell_type": "code",
   "execution_count": null,
   "metadata": {},
   "outputs": [],
   "source": [
    "## Finding Average Degree from Adjacency\n",
    "A_sum = Adj.sum(axis=1)\n",
    "Avg_degree = np.average(A_sum)\n",
    "print(\"Average Degree calculated from Graph:\",Avg_degree)\n",
    "\n",
    "## Finding Through Formula\n",
    "Avg_degree_formula = p * (N-1)\n",
    "print(\"Average Degree calculated from Formula:\" ,Avg_degree_formula)"
   ]
  },
  {
   "cell_type": "markdown",
   "metadata": {},
   "source": [
    "## 3.2 Diameter of Graph\n",
    "\n",
    "The Diameter of the Graph in the Erdos-Renyi Model is given by *log(N)/log(z)*. *z* is the average node degree in the graph.\n"
   ]
  },
  {
   "cell_type": "code",
   "execution_count": null,
   "metadata": {},
   "outputs": [],
   "source": [
    "## Finding from Graph\n",
    "diameter = nx.diameter(G)\n",
    "print(\"Diameter of the Graph calculated from Graph:\",diameter)\n",
    "\n",
    "## Finding Through Formula\n",
    "diameter_formula = np.log(N) / np.log(Avg_degree)\n",
    "print(\"Diameter of the Graph calculated from Formula:\" ,diameter_formula)"
   ]
  },
  {
   "cell_type": "markdown",
   "metadata": {},
   "source": [
    "## 3.3 Clustering Coefficient\n",
    "\n",
    "The Clustering Coefficient for the Erdos-Renyi Model is given by *prob*."
   ]
  },
  {
   "cell_type": "code",
   "execution_count": null,
   "metadata": {},
   "outputs": [],
   "source": [
    "## Finding Through Formula\n",
    "print(\"Clustering Coefficient calculated from Formula:\" ,prob)"
   ]
  },
  {
   "cell_type": "code",
   "execution_count": null,
   "metadata": {},
   "outputs": [],
   "source": []
  }
 ],
 "metadata": {
  "kernelspec": {
   "display_name": "Python 3",
   "language": "python",
   "name": "python3"
  },
  "language_info": {
   "codemirror_mode": {
    "name": "ipython",
    "version": 3
   },
   "file_extension": ".py",
   "mimetype": "text/x-python",
   "name": "python",
   "nbconvert_exporter": "python",
   "pygments_lexer": "ipython3",
   "version": "3.7.4"
  }
 },
 "nbformat": 4,
 "nbformat_minor": 2
}
